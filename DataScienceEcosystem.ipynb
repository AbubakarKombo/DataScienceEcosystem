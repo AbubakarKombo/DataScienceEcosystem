{
 "cells": [
  {
   "cell_type": "markdown",
   "id": "4258feb8-bd3f-4cdd-a83b-9aebf474f331",
   "metadata": {},
   "source": [
    "# Data Science Tools and Ecosystem"
   ]
  },
  {
   "cell_type": "markdown",
   "id": "3f42373d-2e37-4d2d-8aed-5b0c782d6463",
   "metadata": {},
   "source": [
    "In this notebook, Data Science Tools and Ecosystem are summarized."
   ]
  },
  {
   "cell_type": "markdown",
   "id": "dd7e3689-385c-4081-8b70-24272a076b46",
   "metadata": {},
   "source": [
    "__Objectives__:\n",
    "* List of popular languages for Data Science\n",
    "* Commonly used libraries used by Data Scientists\n",
    "* Development Environment open source tools used in data science\n",
    "* Evaluating arithmetic expressions in Python\n"
   ]
  },
  {
   "cell_type": "markdown",
   "id": "6db9fc38-198b-4e1f-9568-e5965a2cbe9d",
   "metadata": {},
   "source": [
    "Some of the popular languages that Data Scientists use are:"
   ]
  },
  {
   "cell_type": "markdown",
   "id": "08cb51fc-f6fc-419a-8f81-8522443d3187",
   "metadata": {},
   "source": [
    "1. Python\n",
    "2. R\n",
    "3. SQL\n",
    "4. Scala"
   ]
  },
  {
   "cell_type": "markdown",
   "id": "3eb48cd6-327f-45c5-a42b-2766d2e5792b",
   "metadata": {},
   "source": [
    "Some of the commonly used libraries used by Data Scientists include:\n",
    "1. Scientific Computing Libraries in Python e.g Numpy\n",
    "2. Visualization Libraries in Python\n",
    "3. Machine Learning and Deep Learning Libraries e.g Scikit-learn\n",
    "4. Deep Learning Libraries in Python\n",
    "5. Scala Libraries e.g Vegas"
   ]
  },
  {
   "cell_type": "markdown",
   "id": "c3ab9b5b-50b8-46f3-bd0e-a1d8b2df046a",
   "metadata": {},
   "source": [
    "|Data Science Tools|\n",
    "--------------------\n",
    "|Jupyter|\n",
    "|RStudio|\n",
    "|Spyder|"
   ]
  },
  {
   "cell_type": "markdown",
   "id": "7faad98c-4c2f-47f9-a37a-44ea28ebdaba",
   "metadata": {},
   "source": [
    "### Below are a few examples of evaluating arithmetic expressions in Python"
   ]
  },
  {
   "cell_type": "code",
   "execution_count": 1,
   "id": "8f8c690a-2d69-4c4e-84d3-c08012c9af67",
   "metadata": {},
   "outputs": [
    {
     "data": {
      "text/plain": [
       "17"
      ]
     },
     "execution_count": 1,
     "metadata": {},
     "output_type": "execute_result"
    }
   ],
   "source": [
    "# This a simple arithmetic expression to mutiply then add integers\n",
    "(3*4)+5"
   ]
  },
  {
   "cell_type": "code",
   "execution_count": 2,
   "id": "b04a636d-8dd3-4fba-b474-76356d064188",
   "metadata": {},
   "outputs": [
    {
     "data": {
      "text/plain": [
       "3.3333333333333335"
      ]
     },
     "execution_count": 2,
     "metadata": {},
     "output_type": "execute_result"
    }
   ],
   "source": [
    "# This will convert 200 minutes to hours by diving by 60\n",
    "200/60"
   ]
  },
  {
   "cell_type": "markdown",
   "id": "42a92e00-6c60-4cf4-a191-cf79aaf1cee7",
   "metadata": {},
   "source": [
    "## Author\n",
    "Abubakar Kombo"
   ]
  },
  {
   "cell_type": "code",
   "execution_count": null,
   "id": "4d312aaf-29df-4a95-8725-dfc172bbf4b4",
   "metadata": {},
   "outputs": [],
   "source": []
  }
 ],
 "metadata": {
  "kernelspec": {
   "display_name": "Python 3 (ipykernel)",
   "language": "python",
   "name": "python3"
  },
  "language_info": {
   "codemirror_mode": {
    "name": "ipython",
    "version": 3
   },
   "file_extension": ".py",
   "mimetype": "text/x-python",
   "name": "python",
   "nbconvert_exporter": "python",
   "pygments_lexer": "ipython3",
   "version": "3.12.4"
  }
 },
 "nbformat": 4,
 "nbformat_minor": 5
}
